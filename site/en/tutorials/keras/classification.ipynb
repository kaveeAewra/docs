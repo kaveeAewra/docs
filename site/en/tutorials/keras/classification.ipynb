{
  "cells": [
    {
      "cell_type": "markdown",
      "metadata": {
        "id": "MhoQ0WE77laV"
      },
      "source": [
        "##### Copyright 2018 The TensorFlow Authors."
      ]
    },
    {
      "cell_type": "code",
      "execution_count": null,
      "metadata": {
        "id": "_ckMIh7O7s6D"
      },
      "outputs": [],
      "source": [
        "#@title Licensed under the Apache License, Version 2.0 (the \"License\");\n",
        "# you may not use this file except in compliance with the License.\n",
        "# You may obtain a copy of the License at\n",
        "#\n",
        "# https://www.apache.org/licenses/LICENSE-2.0\n",
        "#\n",
        "# Unless required by applicable law or agreed to in writing, software\n",
        "# distributed under the License is distributed on an \"AS IS\" BASIS,\n",
        "# WITHOUT WARRANTIES OR CONDITIONS OF ANY KIND, either express or implied.\n",
        "# See the License for the specific language governing permissions and\n",
        "# limitations under the License."
      ]
    },
    {
      "cell_type": "code",
      "source": [
        "#@title Default title text\n",
        "\n",
        "import pandas as pd\n",
        "import numpy as np\n",
        "import tensorflow as tf\n",
        "from sklearn.model_selection import train_test_split\n",
        "\n",
        "data = pd.read_csv(\"/content/Mobile_Price_Classification-220531-204702.csv\")\n",
        "\n",
        "X = data.drop(\"price_range\", axis=1)\n",
        "y = data[\"price_range\"]\n",
        "X_train, X_test, y_train, y_test = train_test_split(X, y, test_size=0.25, random_state=42)\n",
        "model = tf.keras.models.Sequential([\n",
        "    tf.keras.layers.Dense(8, activation=\"relu\", input_shape=(X_train.shape[1],)),\n",
        "    tf.keras.layers.Dense(4, activation=\"relu\"),\n",
        "    tf.keras.layers.Dense(1, activation=\"sigmoid\")\n",
        "])\n",
        "model.compile(loss=\"binary_crossentropy\",\n",
        "              optimizer=\"adam\",\n",
        "              metrics=[\"accuracy\"])\n",
        "history = model.fit(X_train, y_train, epochs=100, batch_size=32,\n",
        "                    validation_data=(X_test, y_test))\n",
        "model.save_weights(\"mobile_price_classification_weights.h5\")\n"
      ],
      "metadata": {
        "id": "mXBK6hpRseAI",
        "outputId": "8c0db249-5210-4d24-d87d-a1b5c1f421c6",
        "colab": {
          "base_uri": "https://localhost:8080/"
        }
      },
      "execution_count": 13,
      "outputs": [
        {
          "output_type": "stream",
          "name": "stdout",
          "text": [
            "Epoch 1/100\n",
            "47/47 [==============================] - 3s 29ms/step - loss: 22.0994 - accuracy: 0.6320 - val_loss: 16.9606 - val_accuracy: 0.6060\n",
            "Epoch 2/100\n",
            "47/47 [==============================] - 1s 12ms/step - loss: 10.5322 - accuracy: 0.6287 - val_loss: 5.4425 - val_accuracy: 0.6140\n",
            "Epoch 3/100\n",
            "47/47 [==============================] - 1s 15ms/step - loss: 4.6259 - accuracy: 0.6220 - val_loss: 3.6968 - val_accuracy: 0.6060\n",
            "Epoch 4/100\n",
            "47/47 [==============================] - 1s 19ms/step - loss: 3.3276 - accuracy: 0.6227 - val_loss: 2.7209 - val_accuracy: 0.6180\n",
            "Epoch 5/100\n",
            "47/47 [==============================] - 1s 16ms/step - loss: 2.4595 - accuracy: 0.6133 - val_loss: 2.3698 - val_accuracy: 0.6260\n",
            "Epoch 6/100\n",
            "47/47 [==============================] - 1s 15ms/step - loss: 1.8417 - accuracy: 0.6140 - val_loss: 1.4535 - val_accuracy: 0.6260\n",
            "Epoch 7/100\n",
            "47/47 [==============================] - 1s 15ms/step - loss: 1.3684 - accuracy: 0.6127 - val_loss: 1.1867 - val_accuracy: 0.5660\n",
            "Epoch 8/100\n",
            "47/47 [==============================] - 1s 12ms/step - loss: 1.1022 - accuracy: 0.6187 - val_loss: 1.0938 - val_accuracy: 0.5740\n",
            "Epoch 9/100\n",
            "47/47 [==============================] - 0s 10ms/step - loss: 0.8992 - accuracy: 0.6020 - val_loss: 0.7340 - val_accuracy: 0.5980\n",
            "Epoch 10/100\n",
            "47/47 [==============================] - 0s 7ms/step - loss: 0.7002 - accuracy: 0.6253 - val_loss: 0.6979 - val_accuracy: 0.6040\n",
            "Epoch 11/100\n",
            "47/47 [==============================] - 1s 13ms/step - loss: 0.6749 - accuracy: 0.6140 - val_loss: 0.6707 - val_accuracy: 0.6100\n",
            "Epoch 12/100\n",
            "47/47 [==============================] - 1s 18ms/step - loss: 0.7102 - accuracy: 0.6213 - val_loss: 0.6223 - val_accuracy: 0.6420\n",
            "Epoch 13/100\n",
            "47/47 [==============================] - 1s 11ms/step - loss: 0.6277 - accuracy: 0.6247 - val_loss: 0.6171 - val_accuracy: 0.6460\n",
            "Epoch 14/100\n",
            "47/47 [==============================] - 0s 7ms/step - loss: 0.6574 - accuracy: 0.6173 - val_loss: 0.6766 - val_accuracy: 0.6160\n",
            "Epoch 15/100\n",
            "47/47 [==============================] - 0s 10ms/step - loss: 0.6950 - accuracy: 0.6067 - val_loss: 0.6339 - val_accuracy: 0.6420\n",
            "Epoch 16/100\n",
            "47/47 [==============================] - 0s 9ms/step - loss: 0.6266 - accuracy: 0.6193 - val_loss: 0.6520 - val_accuracy: 0.6260\n",
            "Epoch 17/100\n",
            "47/47 [==============================] - 0s 9ms/step - loss: 0.6407 - accuracy: 0.6420 - val_loss: 0.6006 - val_accuracy: 0.6440\n",
            "Epoch 18/100\n",
            "47/47 [==============================] - 1s 12ms/step - loss: 0.6377 - accuracy: 0.6147 - val_loss: 0.6407 - val_accuracy: 0.6420\n",
            "Epoch 19/100\n",
            "47/47 [==============================] - 1s 12ms/step - loss: 0.6400 - accuracy: 0.6287 - val_loss: 0.7144 - val_accuracy: 0.6060\n",
            "Epoch 20/100\n",
            "47/47 [==============================] - 0s 10ms/step - loss: 0.6278 - accuracy: 0.6313 - val_loss: 0.6127 - val_accuracy: 0.6460\n",
            "Epoch 21/100\n",
            "47/47 [==============================] - 1s 11ms/step - loss: 0.6082 - accuracy: 0.6360 - val_loss: 0.6090 - val_accuracy: 0.6520\n",
            "Epoch 22/100\n",
            "47/47 [==============================] - 0s 10ms/step - loss: 0.6401 - accuracy: 0.6327 - val_loss: 0.5958 - val_accuracy: 0.6420\n",
            "Epoch 23/100\n",
            "47/47 [==============================] - 1s 10ms/step - loss: 0.6080 - accuracy: 0.6493 - val_loss: 0.6461 - val_accuracy: 0.6360\n",
            "Epoch 24/100\n",
            "47/47 [==============================] - 1s 11ms/step - loss: 0.6188 - accuracy: 0.6447 - val_loss: 0.6478 - val_accuracy: 0.6340\n",
            "Epoch 25/100\n",
            "47/47 [==============================] - 1s 12ms/step - loss: 0.6406 - accuracy: 0.6320 - val_loss: 0.6397 - val_accuracy: 0.6320\n",
            "Epoch 26/100\n",
            "47/47 [==============================] - 0s 8ms/step - loss: 0.6177 - accuracy: 0.6220 - val_loss: 0.6161 - val_accuracy: 0.6260\n",
            "Epoch 27/100\n",
            "47/47 [==============================] - 0s 10ms/step - loss: 0.6234 - accuracy: 0.6393 - val_loss: 0.5996 - val_accuracy: 0.6600\n",
            "Epoch 28/100\n",
            "47/47 [==============================] - 1s 13ms/step - loss: 0.6074 - accuracy: 0.6473 - val_loss: 0.6127 - val_accuracy: 0.6440\n",
            "Epoch 29/100\n",
            "47/47 [==============================] - 1s 15ms/step - loss: 0.6212 - accuracy: 0.6313 - val_loss: 0.6227 - val_accuracy: 0.6400\n",
            "Epoch 30/100\n",
            "47/47 [==============================] - 1s 14ms/step - loss: 0.7241 - accuracy: 0.6153 - val_loss: 0.6021 - val_accuracy: 0.6540\n",
            "Epoch 31/100\n",
            "47/47 [==============================] - 1s 14ms/step - loss: 0.6696 - accuracy: 0.6240 - val_loss: 0.6300 - val_accuracy: 0.6500\n",
            "Epoch 32/100\n",
            "47/47 [==============================] - 1s 17ms/step - loss: 0.6255 - accuracy: 0.6520 - val_loss: 0.6405 - val_accuracy: 0.6340\n",
            "Epoch 33/100\n",
            "47/47 [==============================] - 1s 14ms/step - loss: 0.6181 - accuracy: 0.6220 - val_loss: 0.6030 - val_accuracy: 0.6600\n",
            "Epoch 34/100\n",
            "47/47 [==============================] - 1s 16ms/step - loss: 0.6065 - accuracy: 0.6340 - val_loss: 0.6309 - val_accuracy: 0.6320\n",
            "Epoch 35/100\n",
            "47/47 [==============================] - 1s 12ms/step - loss: 0.6383 - accuracy: 0.6320 - val_loss: 0.5939 - val_accuracy: 0.6540\n",
            "Epoch 36/100\n",
            "47/47 [==============================] - 1s 12ms/step - loss: 0.6850 - accuracy: 0.6313 - val_loss: 0.5955 - val_accuracy: 0.6560\n",
            "Epoch 37/100\n",
            "47/47 [==============================] - 1s 11ms/step - loss: 0.6005 - accuracy: 0.6587 - val_loss: 0.6463 - val_accuracy: 0.6400\n",
            "Epoch 38/100\n",
            "47/47 [==============================] - 1s 11ms/step - loss: 0.6694 - accuracy: 0.6140 - val_loss: 0.6550 - val_accuracy: 0.6480\n",
            "Epoch 39/100\n",
            "47/47 [==============================] - 1s 12ms/step - loss: 0.6563 - accuracy: 0.6367 - val_loss: 0.5906 - val_accuracy: 0.6520\n",
            "Epoch 40/100\n",
            "47/47 [==============================] - 1s 14ms/step - loss: 0.6115 - accuracy: 0.6447 - val_loss: 0.5957 - val_accuracy: 0.6540\n",
            "Epoch 41/100\n",
            "47/47 [==============================] - 0s 10ms/step - loss: 0.6019 - accuracy: 0.6553 - val_loss: 0.6326 - val_accuracy: 0.6280\n",
            "Epoch 42/100\n",
            "47/47 [==============================] - 0s 5ms/step - loss: 0.6074 - accuracy: 0.6473 - val_loss: 0.6141 - val_accuracy: 0.6360\n",
            "Epoch 43/100\n",
            "47/47 [==============================] - 0s 4ms/step - loss: 0.6179 - accuracy: 0.6427 - val_loss: 0.6112 - val_accuracy: 0.6520\n",
            "Epoch 44/100\n",
            "47/47 [==============================] - 0s 6ms/step - loss: 0.6097 - accuracy: 0.6507 - val_loss: 0.5947 - val_accuracy: 0.6420\n",
            "Epoch 45/100\n",
            "47/47 [==============================] - 0s 6ms/step - loss: 0.6232 - accuracy: 0.6347 - val_loss: 0.5910 - val_accuracy: 0.6640\n",
            "Epoch 46/100\n",
            "47/47 [==============================] - 0s 9ms/step - loss: 0.6226 - accuracy: 0.6540 - val_loss: 0.6207 - val_accuracy: 0.6420\n",
            "Epoch 47/100\n",
            "47/47 [==============================] - 0s 6ms/step - loss: 0.6037 - accuracy: 0.6460 - val_loss: 0.5985 - val_accuracy: 0.6620\n",
            "Epoch 48/100\n",
            "47/47 [==============================] - 0s 5ms/step - loss: 0.5995 - accuracy: 0.6493 - val_loss: 0.6154 - val_accuracy: 0.6400\n",
            "Epoch 49/100\n",
            "47/47 [==============================] - 0s 7ms/step - loss: 0.6144 - accuracy: 0.6467 - val_loss: 0.7286 - val_accuracy: 0.5880\n",
            "Epoch 50/100\n",
            "47/47 [==============================] - 0s 8ms/step - loss: 0.6256 - accuracy: 0.6413 - val_loss: 0.6172 - val_accuracy: 0.6520\n",
            "Epoch 51/100\n",
            "47/47 [==============================] - 0s 7ms/step - loss: 0.6069 - accuracy: 0.6440 - val_loss: 0.6383 - val_accuracy: 0.6480\n",
            "Epoch 52/100\n",
            "47/47 [==============================] - 0s 6ms/step - loss: 0.6578 - accuracy: 0.6300 - val_loss: 0.8527 - val_accuracy: 0.5260\n",
            "Epoch 53/100\n",
            "47/47 [==============================] - 0s 7ms/step - loss: 0.6130 - accuracy: 0.6513 - val_loss: 0.7908 - val_accuracy: 0.5360\n",
            "Epoch 54/100\n",
            "47/47 [==============================] - 0s 7ms/step - loss: 0.6159 - accuracy: 0.6407 - val_loss: 0.6259 - val_accuracy: 0.6460\n",
            "Epoch 55/100\n",
            "47/47 [==============================] - 0s 6ms/step - loss: 0.6017 - accuracy: 0.6460 - val_loss: 0.5944 - val_accuracy: 0.6440\n",
            "Epoch 56/100\n",
            "47/47 [==============================] - 0s 6ms/step - loss: 0.5986 - accuracy: 0.6440 - val_loss: 0.6153 - val_accuracy: 0.6620\n",
            "Epoch 57/100\n",
            "47/47 [==============================] - 0s 8ms/step - loss: 0.6329 - accuracy: 0.6300 - val_loss: 0.6033 - val_accuracy: 0.6500\n",
            "Epoch 58/100\n",
            "47/47 [==============================] - 0s 6ms/step - loss: 0.7013 - accuracy: 0.6220 - val_loss: 0.6324 - val_accuracy: 0.6480\n",
            "Epoch 59/100\n",
            "47/47 [==============================] - 0s 5ms/step - loss: 0.6235 - accuracy: 0.6420 - val_loss: 0.6417 - val_accuracy: 0.6240\n",
            "Epoch 60/100\n",
            "47/47 [==============================] - 0s 6ms/step - loss: 0.5944 - accuracy: 0.6453 - val_loss: 0.6016 - val_accuracy: 0.6480\n",
            "Epoch 61/100\n",
            "47/47 [==============================] - 0s 10ms/step - loss: 0.6439 - accuracy: 0.6373 - val_loss: 0.5995 - val_accuracy: 0.6680\n",
            "Epoch 62/100\n",
            "47/47 [==============================] - 1s 26ms/step - loss: 0.5904 - accuracy: 0.6420 - val_loss: 0.5946 - val_accuracy: 0.6540\n",
            "Epoch 63/100\n",
            "47/47 [==============================] - 1s 13ms/step - loss: 0.5902 - accuracy: 0.6480 - val_loss: 0.6046 - val_accuracy: 0.6520\n",
            "Epoch 64/100\n",
            "47/47 [==============================] - 1s 14ms/step - loss: 0.5911 - accuracy: 0.6560 - val_loss: 0.6361 - val_accuracy: 0.6260\n",
            "Epoch 65/100\n",
            "47/47 [==============================] - 0s 9ms/step - loss: 0.6006 - accuracy: 0.6453 - val_loss: 0.6017 - val_accuracy: 0.6560\n",
            "Epoch 66/100\n",
            "47/47 [==============================] - 1s 12ms/step - loss: 0.6376 - accuracy: 0.6380 - val_loss: 0.5984 - val_accuracy: 0.6680\n",
            "Epoch 67/100\n",
            "47/47 [==============================] - 1s 12ms/step - loss: 0.5998 - accuracy: 0.6427 - val_loss: 0.6078 - val_accuracy: 0.6600\n",
            "Epoch 68/100\n",
            "47/47 [==============================] - 0s 8ms/step - loss: 0.6302 - accuracy: 0.6400 - val_loss: 0.5984 - val_accuracy: 0.6480\n",
            "Epoch 69/100\n",
            "47/47 [==============================] - 0s 3ms/step - loss: 0.6112 - accuracy: 0.6353 - val_loss: 0.5975 - val_accuracy: 0.6640\n",
            "Epoch 70/100\n",
            "47/47 [==============================] - 0s 3ms/step - loss: 0.6067 - accuracy: 0.6453 - val_loss: 0.7510 - val_accuracy: 0.6340\n",
            "Epoch 71/100\n",
            "47/47 [==============================] - 0s 4ms/step - loss: 0.6220 - accuracy: 0.6493 - val_loss: 0.6913 - val_accuracy: 0.6460\n",
            "Epoch 72/100\n",
            "47/47 [==============================] - 0s 3ms/step - loss: 0.6297 - accuracy: 0.6413 - val_loss: 0.5920 - val_accuracy: 0.6600\n",
            "Epoch 73/100\n",
            "47/47 [==============================] - 0s 3ms/step - loss: 0.6393 - accuracy: 0.6313 - val_loss: 0.6800 - val_accuracy: 0.6100\n",
            "Epoch 74/100\n",
            "47/47 [==============================] - 0s 3ms/step - loss: 0.5882 - accuracy: 0.6540 - val_loss: 0.6421 - val_accuracy: 0.6540\n",
            "Epoch 75/100\n",
            "47/47 [==============================] - 0s 3ms/step - loss: 0.6090 - accuracy: 0.6513 - val_loss: 0.6014 - val_accuracy: 0.6520\n",
            "Epoch 76/100\n",
            "47/47 [==============================] - 0s 3ms/step - loss: 0.6000 - accuracy: 0.6387 - val_loss: 0.5874 - val_accuracy: 0.6600\n",
            "Epoch 77/100\n",
            "47/47 [==============================] - 0s 3ms/step - loss: 0.5867 - accuracy: 0.6500 - val_loss: 0.5967 - val_accuracy: 0.6560\n",
            "Epoch 78/100\n",
            "47/47 [==============================] - 0s 3ms/step - loss: 0.6034 - accuracy: 0.6440 - val_loss: 0.6241 - val_accuracy: 0.6500\n",
            "Epoch 79/100\n",
            "47/47 [==============================] - 0s 4ms/step - loss: 0.5899 - accuracy: 0.6407 - val_loss: 0.6625 - val_accuracy: 0.6640\n",
            "Epoch 80/100\n",
            "47/47 [==============================] - 0s 3ms/step - loss: 0.6160 - accuracy: 0.6520 - val_loss: 0.5903 - val_accuracy: 0.6540\n",
            "Epoch 81/100\n",
            "47/47 [==============================] - 0s 4ms/step - loss: 0.6335 - accuracy: 0.6440 - val_loss: 0.7486 - val_accuracy: 0.5580\n",
            "Epoch 82/100\n",
            "47/47 [==============================] - 0s 4ms/step - loss: 0.6401 - accuracy: 0.6447 - val_loss: 0.6121 - val_accuracy: 0.6380\n",
            "Epoch 83/100\n",
            "47/47 [==============================] - 0s 4ms/step - loss: 0.5799 - accuracy: 0.6527 - val_loss: 0.5925 - val_accuracy: 0.6680\n",
            "Epoch 84/100\n",
            "47/47 [==============================] - 0s 3ms/step - loss: 0.5845 - accuracy: 0.6567 - val_loss: 0.5941 - val_accuracy: 0.6560\n",
            "Epoch 85/100\n",
            "47/47 [==============================] - 0s 4ms/step - loss: 0.6343 - accuracy: 0.6273 - val_loss: 0.6372 - val_accuracy: 0.6300\n",
            "Epoch 86/100\n",
            "47/47 [==============================] - 0s 3ms/step - loss: 0.6276 - accuracy: 0.6407 - val_loss: 0.6606 - val_accuracy: 0.6220\n",
            "Epoch 87/100\n",
            "47/47 [==============================] - 0s 3ms/step - loss: 0.6072 - accuracy: 0.6500 - val_loss: 0.6240 - val_accuracy: 0.6200\n",
            "Epoch 88/100\n",
            "47/47 [==============================] - 0s 4ms/step - loss: 0.6133 - accuracy: 0.6453 - val_loss: 0.6062 - val_accuracy: 0.6620\n",
            "Epoch 89/100\n",
            "47/47 [==============================] - 0s 3ms/step - loss: 0.5985 - accuracy: 0.6573 - val_loss: 0.6091 - val_accuracy: 0.6500\n",
            "Epoch 90/100\n",
            "47/47 [==============================] - 0s 3ms/step - loss: 0.6158 - accuracy: 0.6460 - val_loss: 0.6382 - val_accuracy: 0.6700\n",
            "Epoch 91/100\n",
            "47/47 [==============================] - 0s 3ms/step - loss: 0.6150 - accuracy: 0.6407 - val_loss: 0.5980 - val_accuracy: 0.6620\n",
            "Epoch 92/100\n",
            "47/47 [==============================] - 0s 3ms/step - loss: 0.6177 - accuracy: 0.6387 - val_loss: 0.5980 - val_accuracy: 0.6780\n",
            "Epoch 93/100\n",
            "47/47 [==============================] - 0s 4ms/step - loss: 0.5980 - accuracy: 0.6447 - val_loss: 0.6102 - val_accuracy: 0.6520\n",
            "Epoch 94/100\n",
            "47/47 [==============================] - 0s 3ms/step - loss: 0.6084 - accuracy: 0.6407 - val_loss: 0.6019 - val_accuracy: 0.6540\n",
            "Epoch 95/100\n",
            "47/47 [==============================] - 0s 3ms/step - loss: 0.5960 - accuracy: 0.6547 - val_loss: 0.6050 - val_accuracy: 0.6620\n",
            "Epoch 96/100\n",
            "47/47 [==============================] - 0s 3ms/step - loss: 0.6182 - accuracy: 0.6433 - val_loss: 0.5888 - val_accuracy: 0.6600\n",
            "Epoch 97/100\n",
            "47/47 [==============================] - 0s 4ms/step - loss: 0.6003 - accuracy: 0.6453 - val_loss: 0.6020 - val_accuracy: 0.6680\n",
            "Epoch 98/100\n",
            "47/47 [==============================] - 0s 3ms/step - loss: 0.5863 - accuracy: 0.6420 - val_loss: 0.6012 - val_accuracy: 0.6440\n",
            "Epoch 99/100\n",
            "47/47 [==============================] - 0s 4ms/step - loss: 0.6247 - accuracy: 0.6273 - val_loss: 0.5853 - val_accuracy: 0.6500\n",
            "Epoch 100/100\n",
            "47/47 [==============================] - 0s 4ms/step - loss: 0.6419 - accuracy: 0.6373 - val_loss: 0.6441 - val_accuracy: 0.6280\n"
          ]
        }
      ]
    },
    {
      "cell_type": "code",
      "execution_count": null,
      "metadata": {
        "cellView": "form",
        "id": "vasWnqRgy1H4"
      },
      "outputs": [],
      "source": [
        "#@title MIT License\n",
        "#\n",
        "# Copyright (c) 2017 François Chollet\n",
        "#\n",
        "# Permission is hereby granted, free of charge, to any person obtaining a\n",
        "# copy of this software and associated documentation files (the \"Software\"),\n",
        "# to deal in the Software without restriction, including without limitation\n",
        "# the rights to use, copy, modify, merge, publish, distribute, sublicense,\n",
        "# and/or sell copies of the Software, and to permit persons to whom the\n",
        "# Software is furnished to do so, subject to the following conditions:\n",
        "#\n",
        "# The above copyright notice and this permission notice shall be included in\n",
        "# all copies or substantial portions of the Software.\n",
        "#\n",
        "# THE SOFTWARE IS PROVIDED \"AS IS\", WITHOUT WARRANTY OF ANY KIND, EXPRESS OR\n",
        "# IMPLIED, INCLUDING BUT NOT LIMITED TO THE WARRANTIES OF MERCHANTABILITY,\n",
        "# FITNESS FOR A PARTICULAR PURPOSE AND NONINFRINGEMENT. IN NO EVENT SHALL\n",
        "# THE AUTHORS OR COPYRIGHT HOLDERS BE LIABLE FOR ANY CLAIM, DAMAGES OR OTHER\n",
        "# LIABILITY, WHETHER IN AN ACTION OF CONTRACT, TORT OR OTHERWISE, ARISING\n",
        "# FROM, OUT OF OR IN CONNECTION WITH THE SOFTWARE OR THE USE OR OTHER\n",
        "# DEALINGS IN THE SOFTWARE."
      ]
    },
    {
      "cell_type": "markdown",
      "metadata": {
        "id": "jYysdyb-CaWM"
      },
      "source": [
        "# Basic classification: Classify images of clothing"
      ]
    },
    {
      "cell_type": "markdown",
      "metadata": {
        "id": "S5Uhzt6vVIB2"
      },
      "source": [
        "<table class=\"tfo-notebook-buttons\" align=\"left\">\n",
        "  <td>\n",
        "    <a target=\"_blank\" href=\"https://www.tensorflow.org/tutorials/keras/classification\"><img src=\"https://www.tensorflow.org/images/tf_logo_32px.png\" />View on TensorFlow.org</a>\n",
        "  </td>\n",
        "  <td>\n",
        "    <a target=\"_blank\" href=\"https://colab.research.google.com/github/tensorflow/docs/blob/master/site/en/tutorials/keras/classification.ipynb\"><img src=\"https://www.tensorflow.org/images/colab_logo_32px.png\" />Run in Google Colab</a>\n",
        "  </td>\n",
        "  <td>\n",
        "    <a target=\"_blank\" href=\"https://github.com/tensorflow/docs/blob/master/site/en/tutorials/keras/classification.ipynb\"><img src=\"https://www.tensorflow.org/images/GitHub-Mark-32px.png\" />View source on GitHub</a>\n",
        "  </td>\n",
        "  <td>\n",
        "    <a href=\"https://storage.googleapis.com/tensorflow_docs/docs/site/en/tutorials/keras/classification.ipynb\"><img src=\"https://www.tensorflow.org/images/download_logo_32px.png\" />Download notebook</a>\n",
        "  </td>\n",
        "</table>"
      ]
    },
    {
      "cell_type": "markdown",
      "metadata": {
        "id": "FbVhjPpzn6BM"
      },
      "source": [
        "This guide trains a neural network model to classify images of clothing, like sneakers and shirts. It's okay if you don't understand all the details; this is a fast-paced overview of a complete TensorFlow program with the details explained as you go.\n",
        "\n",
        "This guide uses [tf.keras](https://www.tensorflow.org/guide/keras), a high-level API to build and train models in TensorFlow."
      ]
    },
    {
      "cell_type": "code",
      "execution_count": null,
      "metadata": {
        "id": "dzLKpmZICaWN"
      },
      "outputs": [],
      "source": [
        "# TensorFlow and tf.keras\n",
        "import tensorflow as tf\n",
        "\n",
        "# Helper libraries\n",
        "import numpy as np\n",
        "import matplotlib.pyplot as plt\n",
        "\n",
        "print(tf.__version__)"
      ]
    },
    {
      "cell_type": "markdown",
      "metadata": {
        "id": "yR0EdgrLCaWR"
      },
      "source": [
        "## Import the Fashion MNIST dataset"
      ]
    },
    {
      "cell_type": "markdown",
      "metadata": {
        "id": "DLdCchMdCaWQ"
      },
      "source": [
        "This guide uses the [Fashion MNIST](https://github.com/zalandoresearch/fashion-mnist) dataset which contains 70,000 grayscale images in 10 categories. The images show individual articles of clothing at low resolution (28 by 28 pixels), as seen here:\n",
        "\n",
        "<table>\n",
        "  <tr><td>\n",
        "    <img src=\"https://tensorflow.org/images/fashion-mnist-sprite.png\"\n",
        "         alt=\"Fashion MNIST sprite\"  width=\"600\">\n",
        "  </td></tr>\n",
        "  <tr><td align=\"center\">\n",
        "    <b>Figure 1.</b> <a href=\"https://github.com/zalandoresearch/fashion-mnist\">Fashion-MNIST samples</a> (by Zalando, MIT License).<br/>&nbsp;\n",
        "  </td></tr>\n",
        "</table>\n",
        "\n",
        "Fashion MNIST is intended as a drop-in replacement for the classic [MNIST](http://yann.lecun.com/exdb/mnist/) dataset—often used as the \"Hello, World\" of machine learning programs for computer vision. The MNIST dataset contains images of handwritten digits (0, 1, 2, etc.) in a format identical to that of the articles of clothing you'll use here.\n",
        "\n",
        "This guide uses Fashion MNIST for variety, and because it's a slightly more challenging problem than regular MNIST. Both datasets are relatively small and are used to verify that an algorithm works as expected. They're good starting points to test and debug code.\n",
        "\n",
        "Here, 60,000 images are used to train the network and 10,000 images to evaluate how accurately the network learned to classify images. You can access the Fashion MNIST directly from TensorFlow. Import and [load the Fashion MNIST data](https://www.tensorflow.org/api_docs/python/tf/keras/datasets/fashion_mnist/load_data) directly from TensorFlow:"
      ]
    },
    {
      "cell_type": "code",
      "execution_count": null,
      "metadata": {
        "id": "7MqDQO0KCaWS"
      },
      "outputs": [],
      "source": [
        "fashion_mnist = tf.keras.datasets.fashion_mnist\n",
        "\n",
        "(train_images, train_labels), (test_images, test_labels) = fashion_mnist.load_data()"
      ]
    },
    {
      "cell_type": "markdown",
      "metadata": {
        "id": "t9FDsUlxCaWW"
      },
      "source": [
        "Loading the dataset returns four NumPy arrays:\n",
        "\n",
        "* The `train_images` and `train_labels` arrays are the *training set*—the data the model uses to learn.\n",
        "* The model is tested against the *test set*, the `test_images`, and `test_labels` arrays.\n",
        "\n",
        "The images are 28x28 NumPy arrays, with pixel values ranging from 0 to 255. The *labels* are an array of integers, ranging from 0 to 9. These correspond to the *class* of clothing the image represents:\n",
        "\n",
        "<table>\n",
        "  <tr>\n",
        "    <th>Label</th>\n",
        "    <th>Class</th>\n",
        "  </tr>\n",
        "  <tr>\n",
        "    <td>0</td>\n",
        "    <td>T-shirt/top</td>\n",
        "  </tr>\n",
        "  <tr>\n",
        "    <td>1</td>\n",
        "    <td>Trouser</td>\n",
        "  </tr>\n",
        "    <tr>\n",
        "    <td>2</td>\n",
        "    <td>Pullover</td>\n",
        "  </tr>\n",
        "    <tr>\n",
        "    <td>3</td>\n",
        "    <td>Dress</td>\n",
        "  </tr>\n",
        "    <tr>\n",
        "    <td>4</td>\n",
        "    <td>Coat</td>\n",
        "  </tr>\n",
        "    <tr>\n",
        "    <td>5</td>\n",
        "    <td>Sandal</td>\n",
        "  </tr>\n",
        "    <tr>\n",
        "    <td>6</td>\n",
        "    <td>Shirt</td>\n",
        "  </tr>\n",
        "    <tr>\n",
        "    <td>7</td>\n",
        "    <td>Sneaker</td>\n",
        "  </tr>\n",
        "    <tr>\n",
        "    <td>8</td>\n",
        "    <td>Bag</td>\n",
        "  </tr>\n",
        "    <tr>\n",
        "    <td>9</td>\n",
        "    <td>Ankle boot</td>\n",
        "  </tr>\n",
        "</table>\n",
        "\n",
        "Each image is mapped to a single label. Since the *class names* are not included with the dataset, store them here to use later when plotting the images:"
      ]
    },
    {
      "cell_type": "code",
      "execution_count": null,
      "metadata": {
        "id": "IjnLH5S2CaWx"
      },
      "outputs": [],
      "source": [
        "class_names = ['T-shirt/top', 'Trouser', 'Pullover', 'Dress', 'Coat',\n",
        "               'Sandal', 'Shirt', 'Sneaker', 'Bag', 'Ankle boot']"
      ]
    },
    {
      "cell_type": "markdown",
      "metadata": {
        "id": "Brm0b_KACaWX"
      },
      "source": [
        "## Explore the data\n",
        "\n",
        "Let's explore the format of the dataset before training the model. The following shows there are 60,000 images in the training set, with each image represented as 28 x 28 pixels:"
      ]
    },
    {
      "cell_type": "code",
      "execution_count": null,
      "metadata": {
        "id": "zW5k_xz1CaWX"
      },
      "outputs": [],
      "source": [
        "train_images.shape"
      ]
    },
    {
      "cell_type": "markdown",
      "metadata": {
        "id": "cIAcvQqMCaWf"
      },
      "source": [
        "Likewise, there are 60,000 labels in the training set:"
      ]
    },
    {
      "cell_type": "code",
      "execution_count": null,
      "metadata": {
        "id": "TRFYHB2mCaWb"
      },
      "outputs": [],
      "source": [
        "len(train_labels)"
      ]
    },
    {
      "cell_type": "markdown",
      "metadata": {
        "id": "YSlYxFuRCaWk"
      },
      "source": [
        "Each label is an integer between 0 and 9:"
      ]
    },
    {
      "cell_type": "code",
      "execution_count": null,
      "metadata": {
        "id": "XKnCTHz4CaWg"
      },
      "outputs": [],
      "source": [
        "train_labels"
      ]
    },
    {
      "cell_type": "markdown",
      "metadata": {
        "id": "TMPI88iZpO2T"
      },
      "source": [
        "There are 10,000 images in the test set. Again, each image is represented as 28 x 28 pixels:"
      ]
    },
    {
      "cell_type": "code",
      "execution_count": null,
      "metadata": {
        "id": "2KFnYlcwCaWl"
      },
      "outputs": [],
      "source": [
        "test_images.shape"
      ]
    },
    {
      "cell_type": "markdown",
      "metadata": {
        "id": "rd0A0Iu0CaWq"
      },
      "source": [
        "And the test set contains 10,000 images labels:"
      ]
    },
    {
      "cell_type": "code",
      "execution_count": null,
      "metadata": {
        "id": "iJmPr5-ACaWn"
      },
      "outputs": [],
      "source": [
        "len(test_labels)"
      ]
    },
    {
      "cell_type": "markdown",
      "metadata": {
        "id": "ES6uQoLKCaWr"
      },
      "source": [
        "## Preprocess the data\n",
        "\n",
        "The data must be preprocessed before training the network. If you inspect the first image in the training set, you will see that the pixel values fall in the range of 0 to 255:"
      ]
    },
    {
      "cell_type": "code",
      "execution_count": null,
      "metadata": {
        "id": "m4VEw8Ud9Quh"
      },
      "outputs": [],
      "source": [
        "plt.figure()\n",
        "plt.imshow(train_images[0])\n",
        "plt.colorbar()\n",
        "plt.grid(False)\n",
        "plt.show()"
      ]
    },
    {
      "cell_type": "markdown",
      "metadata": {
        "id": "Wz7l27Lz9S1P"
      },
      "source": [
        "Scale these values to a range of 0 to 1 before feeding them to the neural network model. To do so, divide the values by 255. It's important that the *training set* and the *testing set* be preprocessed in the same way:"
      ]
    },
    {
      "cell_type": "code",
      "execution_count": null,
      "metadata": {
        "id": "bW5WzIPlCaWv"
      },
      "outputs": [],
      "source": [
        "train_images = train_images / 255.0\n",
        "\n",
        "test_images = test_images / 255.0"
      ]
    },
    {
      "cell_type": "markdown",
      "metadata": {
        "id": "Ee638AlnCaWz"
      },
      "source": [
        "To verify that the data is in the correct format and that you're ready to build and train the network, let's display the first 25 images from the *training set* and display the class name below each image."
      ]
    },
    {
      "cell_type": "code",
      "execution_count": null,
      "metadata": {
        "id": "oZTImqg_CaW1"
      },
      "outputs": [],
      "source": [
        "plt.figure(figsize=(10,10))\n",
        "for i in range(25):\n",
        "    plt.subplot(5,5,i+1)\n",
        "    plt.xticks([])\n",
        "    plt.yticks([])\n",
        "    plt.grid(False)\n",
        "    plt.imshow(train_images[i], cmap=plt.cm.binary)\n",
        "    plt.xlabel(class_names[train_labels[i]])\n",
        "plt.show()"
      ]
    },
    {
      "cell_type": "markdown",
      "metadata": {
        "id": "59veuiEZCaW4"
      },
      "source": [
        "## Build the model\n",
        "\n",
        "Building the neural network requires configuring the layers of the model, then compiling the model."
      ]
    },
    {
      "cell_type": "markdown",
      "metadata": {
        "id": "Gxg1XGm0eOBy"
      },
      "source": [
        "### Set up the layers\n",
        "\n",
        "The basic building block of a neural network is the [*layer*](https://www.tensorflow.org/api_docs/python/tf/keras/layers). Layers extract representations from the data fed into them. Hopefully, these representations are meaningful for the problem at hand.\n",
        "\n",
        "Most of deep learning consists of chaining together simple layers. Most layers, such as `tf.keras.layers.Dense`, have parameters that are learned during training."
      ]
    },
    {
      "cell_type": "code",
      "execution_count": null,
      "metadata": {
        "id": "9ODch-OFCaW4"
      },
      "outputs": [],
      "source": [
        "model = tf.keras.Sequential([\n",
        "    tf.keras.layers.Flatten(input_shape=(28, 28)),\n",
        "    tf.keras.layers.Dense(128, activation='relu'),\n",
        "    tf.keras.layers.Dense(10)\n",
        "])"
      ]
    },
    {
      "cell_type": "markdown",
      "metadata": {
        "id": "gut8A_7rCaW6"
      },
      "source": [
        "The first layer in this network, `tf.keras.layers.Flatten`, transforms the format of the images from a two-dimensional array (of 28 by 28 pixels) to a one-dimensional array (of 28 * 28 = 784 pixels). Think of this layer as unstacking rows of pixels in the image and lining them up. This layer has no parameters to learn; it only reformats the data.\n",
        "\n",
        "After the pixels are flattened, the network consists of a sequence of two `tf.keras.layers.Dense` layers. These are densely connected, or fully connected, neural layers. The first `Dense` layer has 128 nodes (or neurons). The second (and last) layer returns a logits array with length of 10. Each node contains a score that indicates the current image belongs to one of the 10 classes.\n",
        "\n",
        "### Compile the model\n",
        "\n",
        "Before the model is ready for training, it needs a few more settings. These are added during the model's [*compile*](https://www.tensorflow.org/api_docs/python/tf/keras/Model#compile) step:\n",
        "\n",
        "* [*Loss function*](https://www.tensorflow.org/api_docs/python/tf/keras/losses) —This measures how accurate the model is during training. You want to minimize this function to \"steer\" the model in the right direction.\n",
        "* [*Optimizer*](https://www.tensorflow.org/api_docs/python/tf/keras/optimizers) —This is how the model is updated based on the data it sees and its loss function.\n",
        "* [*Metrics*](https://www.tensorflow.org/api_docs/python/tf/keras/metrics) —Used to monitor the training and testing steps. The following example uses *accuracy*, the fraction of the images that are correctly classified."
      ]
    },
    {
      "cell_type": "code",
      "execution_count": null,
      "metadata": {
        "id": "Lhan11blCaW7"
      },
      "outputs": [],
      "source": [
        "model.compile(optimizer='adam',\n",
        "              loss=tf.keras.losses.SparseCategoricalCrossentropy(from_logits=True),\n",
        "              metrics=['accuracy'])"
      ]
    },
    {
      "cell_type": "markdown",
      "metadata": {
        "id": "qKF6uW-BCaW-"
      },
      "source": [
        "## Train the model\n",
        "\n",
        "Training the neural network model requires the following steps:\n",
        "\n",
        "1. Feed the training data to the model. In this example, the training data is in the `train_images` and `train_labels` arrays.\n",
        "2. The model learns to associate images and labels.\n",
        "3. You ask the model to make predictions about a test set—in this example, the `test_images` array.\n",
        "4. Verify that the predictions match the labels from the `test_labels` array.\n"
      ]
    },
    {
      "cell_type": "markdown",
      "metadata": {
        "id": "Z4P4zIV7E28Z"
      },
      "source": [
        "### Feed the model\n",
        "\n",
        "To start training,  call the [`model.fit`](https://www.tensorflow.org/api_docs/python/tf/keras/Model#fit) method—so called because it \"fits\" the model to the training data:"
      ]
    },
    {
      "cell_type": "code",
      "execution_count": null,
      "metadata": {
        "id": "xvwvpA64CaW_"
      },
      "outputs": [],
      "source": [
        "model.fit(train_images, train_labels, epochs=10)"
      ]
    },
    {
      "cell_type": "markdown",
      "metadata": {
        "id": "W3ZVOhugCaXA"
      },
      "source": [
        "As the model trains, the loss and accuracy metrics are displayed. This model reaches an accuracy of about 0.91 (or 91%) on the training data."
      ]
    },
    {
      "cell_type": "markdown",
      "metadata": {
        "id": "wCpr6DGyE28h"
      },
      "source": [
        "### Evaluate accuracy\n",
        "\n",
        "Next, compare how the model performs on the test dataset:"
      ]
    },
    {
      "cell_type": "code",
      "execution_count": null,
      "metadata": {
        "id": "VflXLEeECaXC"
      },
      "outputs": [],
      "source": [
        "test_loss, test_acc = model.evaluate(test_images,  test_labels, verbose=2)\n",
        "\n",
        "print('\\nTest accuracy:', test_acc)"
      ]
    },
    {
      "cell_type": "markdown",
      "metadata": {
        "id": "yWfgsmVXCaXG"
      },
      "source": [
        "It turns out that the accuracy on the test dataset is a little less than the accuracy on the training dataset. This gap between training accuracy and test accuracy represents *overfitting*. Overfitting happens when a machine learning model performs worse on new, previously unseen inputs than it does on the training data. An overfitted model \"memorizes\" the noise and details in the training dataset to a point where it negatively impacts the performance of the model on the new data. For more information, see the following:\n",
        "*   [Demonstrate overfitting](https://www.tensorflow.org/tutorials/keras/overfit_and_underfit#demonstrate_overfitting)\n",
        "*   [Strategies to prevent overfitting](https://www.tensorflow.org/tutorials/keras/overfit_and_underfit#strategies_to_prevent_overfitting)"
      ]
    },
    {
      "cell_type": "markdown",
      "metadata": {
        "id": "v-PyD1SYE28q"
      },
      "source": [
        "### Make predictions\n",
        "\n",
        "With the model trained, you can use it to make predictions about some images.\n",
        "Attach a softmax layer to convert the model's linear outputs—[logits](https://developers.google.com/machine-learning/glossary#logits)—to probabilities, which should be easier to interpret."
      ]
    },
    {
      "cell_type": "code",
      "execution_count": null,
      "metadata": {
        "id": "DnfNA0CrQLSD"
      },
      "outputs": [],
      "source": [
        "probability_model = tf.keras.Sequential([model, \n",
        "                                         tf.keras.layers.Softmax()])"
      ]
    },
    {
      "cell_type": "code",
      "execution_count": null,
      "metadata": {
        "id": "Gl91RPhdCaXI"
      },
      "outputs": [],
      "source": [
        "predictions = probability_model.predict(test_images)"
      ]
    },
    {
      "cell_type": "markdown",
      "metadata": {
        "id": "x9Kk1voUCaXJ"
      },
      "source": [
        "Here, the model has predicted the label for each image in the testing set. Let's take a look at the first prediction:"
      ]
    },
    {
      "cell_type": "code",
      "execution_count": null,
      "metadata": {
        "id": "3DmJEUinCaXK"
      },
      "outputs": [],
      "source": [
        "predictions[0]"
      ]
    },
    {
      "cell_type": "markdown",
      "metadata": {
        "id": "-hw1hgeSCaXN"
      },
      "source": [
        "A prediction is an array of 10 numbers. They represent the model's \"confidence\" that the image corresponds to each of the 10 different articles of clothing. You can see which label has the highest confidence value:"
      ]
    },
    {
      "cell_type": "code",
      "execution_count": null,
      "metadata": {
        "id": "qsqenuPnCaXO"
      },
      "outputs": [],
      "source": [
        "np.argmax(predictions[0])"
      ]
    },
    {
      "cell_type": "markdown",
      "metadata": {
        "id": "E51yS7iCCaXO"
      },
      "source": [
        "So, the model is most confident that this image is an ankle boot, or `class_names[9]`. Examining the test label shows that this classification is correct:"
      ]
    },
    {
      "cell_type": "code",
      "execution_count": null,
      "metadata": {
        "id": "Sd7Pgsu6CaXP"
      },
      "outputs": [],
      "source": [
        "test_labels[0]"
      ]
    },
    {
      "cell_type": "markdown",
      "metadata": {
        "id": "ygh2yYC972ne"
      },
      "source": [
        "Graph this to look at the full set of 10 class predictions."
      ]
    },
    {
      "cell_type": "code",
      "execution_count": null,
      "metadata": {
        "id": "DvYmmrpIy6Y1"
      },
      "outputs": [],
      "source": [
        "def plot_image(i, predictions_array, true_label, img):\n",
        "  true_label, img = true_label[i], img[i]\n",
        "  plt.grid(False)\n",
        "  plt.xticks([])\n",
        "  plt.yticks([])\n",
        "\n",
        "  plt.imshow(img, cmap=plt.cm.binary)\n",
        "\n",
        "  predicted_label = np.argmax(predictions_array)\n",
        "  if predicted_label == true_label:\n",
        "    color = 'blue'\n",
        "  else:\n",
        "    color = 'red'\n",
        "\n",
        "  plt.xlabel(\"{} {:2.0f}% ({})\".format(class_names[predicted_label],\n",
        "                                100*np.max(predictions_array),\n",
        "                                class_names[true_label]),\n",
        "                                color=color)\n",
        "\n",
        "def plot_value_array(i, predictions_array, true_label):\n",
        "  true_label = true_label[i]\n",
        "  plt.grid(False)\n",
        "  plt.xticks(range(10))\n",
        "  plt.yticks([])\n",
        "  thisplot = plt.bar(range(10), predictions_array, color=\"#777777\")\n",
        "  plt.ylim([0, 1])\n",
        "  predicted_label = np.argmax(predictions_array)\n",
        "\n",
        "  thisplot[predicted_label].set_color('red')\n",
        "  thisplot[true_label].set_color('blue')"
      ]
    },
    {
      "cell_type": "markdown",
      "metadata": {
        "id": "Zh9yABaME29S"
      },
      "source": [
        "### Verify predictions\n",
        "\n",
        "With the model trained, you can use it to make predictions about some images."
      ]
    },
    {
      "cell_type": "markdown",
      "metadata": {
        "id": "d4Ov9OFDMmOD"
      },
      "source": [
        "Let's look at the 0th image, predictions, and prediction array. Correct prediction labels are blue and incorrect prediction labels are red. The number gives the percentage (out of 100) for the predicted label."
      ]
    },
    {
      "cell_type": "code",
      "execution_count": null,
      "metadata": {
        "id": "HV5jw-5HwSmO"
      },
      "outputs": [],
      "source": [
        "i = 0\n",
        "plt.figure(figsize=(6,3))\n",
        "plt.subplot(1,2,1)\n",
        "plot_image(i, predictions[i], test_labels, test_images)\n",
        "plt.subplot(1,2,2)\n",
        "plot_value_array(i, predictions[i],  test_labels)\n",
        "plt.show()"
      ]
    },
    {
      "cell_type": "code",
      "execution_count": null,
      "metadata": {
        "id": "Ko-uzOufSCSe"
      },
      "outputs": [],
      "source": [
        "i = 12\n",
        "plt.figure(figsize=(6,3))\n",
        "plt.subplot(1,2,1)\n",
        "plot_image(i, predictions[i], test_labels, test_images)\n",
        "plt.subplot(1,2,2)\n",
        "plot_value_array(i, predictions[i],  test_labels)\n",
        "plt.show()"
      ]
    },
    {
      "cell_type": "markdown",
      "metadata": {
        "id": "kgdvGD52CaXR"
      },
      "source": [
        "Let's plot several images with their predictions. Note that the model can be wrong even when very confident."
      ]
    },
    {
      "cell_type": "code",
      "execution_count": null,
      "metadata": {
        "id": "hQlnbqaw2Qu_"
      },
      "outputs": [],
      "source": [
        "# Plot the first X test images, their predicted labels, and the true labels.\n",
        "# Color correct predictions in blue and incorrect predictions in red.\n",
        "num_rows = 5\n",
        "num_cols = 3\n",
        "num_images = num_rows*num_cols\n",
        "plt.figure(figsize=(2*2*num_cols, 2*num_rows))\n",
        "for i in range(num_images):\n",
        "  plt.subplot(num_rows, 2*num_cols, 2*i+1)\n",
        "  plot_image(i, predictions[i], test_labels, test_images)\n",
        "  plt.subplot(num_rows, 2*num_cols, 2*i+2)\n",
        "  plot_value_array(i, predictions[i], test_labels)\n",
        "plt.tight_layout()\n",
        "plt.show()"
      ]
    },
    {
      "cell_type": "markdown",
      "metadata": {
        "id": "R32zteKHCaXT"
      },
      "source": [
        "## Use the trained model\n",
        "\n",
        "Finally, use the trained model to make a prediction about a single image."
      ]
    },
    {
      "cell_type": "code",
      "execution_count": null,
      "metadata": {
        "id": "yRJ7JU7JCaXT"
      },
      "outputs": [],
      "source": [
        "# Grab an image from the test dataset.\n",
        "img = test_images[1]\n",
        "\n",
        "print(img.shape)"
      ]
    },
    {
      "cell_type": "markdown",
      "metadata": {
        "id": "vz3bVp21CaXV"
      },
      "source": [
        "`tf.keras` models are optimized to make predictions on a *batch*, or collection, of examples at once. Accordingly, even though you're using a single image, you need to add it to a list:"
      ]
    },
    {
      "cell_type": "code",
      "execution_count": null,
      "metadata": {
        "id": "lDFh5yF_CaXW"
      },
      "outputs": [],
      "source": [
        "# Add the image to a batch where it's the only member.\n",
        "img = (np.expand_dims(img,0))\n",
        "\n",
        "print(img.shape)"
      ]
    },
    {
      "cell_type": "markdown",
      "metadata": {
        "id": "EQ5wLTkcCaXY"
      },
      "source": [
        "Now predict the correct label for this image:"
      ]
    },
    {
      "cell_type": "code",
      "execution_count": null,
      "metadata": {
        "id": "o_rzNSdrCaXY"
      },
      "outputs": [],
      "source": [
        "predictions_single = probability_model.predict(img)\n",
        "\n",
        "print(predictions_single)"
      ]
    },
    {
      "cell_type": "code",
      "execution_count": null,
      "metadata": {
        "id": "6Ai-cpLjO-3A"
      },
      "outputs": [],
      "source": [
        "plot_value_array(1, predictions_single[0], test_labels)\n",
        "_ = plt.xticks(range(10), class_names, rotation=45)\n",
        "plt.show()"
      ]
    },
    {
      "cell_type": "markdown",
      "metadata": {
        "id": "cU1Y2OAMCaXb"
      },
      "source": [
        "`tf.keras.Model.predict` returns a list of lists—one list for each image in the batch of data. Grab the predictions for our (only) image in the batch:"
      ]
    },
    {
      "cell_type": "code",
      "execution_count": null,
      "metadata": {
        "id": "2tRmdq_8CaXb"
      },
      "outputs": [],
      "source": [
        "np.argmax(predictions_single[0])"
      ]
    },
    {
      "cell_type": "markdown",
      "metadata": {
        "id": "YFc2HbEVCaXd"
      },
      "source": [
        "And the model predicts a label as expected."
      ]
    }
  ],
  "metadata": {
    "colab": {
      "name": "classification.ipynb",
      "toc_visible": true,
      "provenance": []
    },
    "kernelspec": {
      "display_name": "Python 3",
      "name": "python3"
    }
  },
  "nbformat": 4,
  "nbformat_minor": 0
}